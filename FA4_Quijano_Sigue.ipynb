{
 "cells": [
  {
   "cell_type": "markdown",
   "id": "e21ed3e9",
   "metadata": {},
   "source": [
    "### P-4.26 Write a program that can solve instances of the Tower of Hanoi problem (from Exercise C-4.14)."
   ]
  },
  {
   "cell_type": "code",
   "execution_count": 1,
   "id": "c9628f89",
   "metadata": {},
   "outputs": [
    {
     "name": "stdout",
     "output_type": "stream",
     "text": [
      "Enter number of disks: 4\n",
      "Move disk 1 from a to b\n",
      "Move disk 2 from a to c\n",
      "Move disk 1 from b to c\n",
      "Move disk 3 from a to b\n",
      "Move disk 1 from c to a\n",
      "Move disk 2 from c to b\n",
      "Move disk 1 from a to b\n",
      "Move disk 4 from a to c\n",
      "Move disk 1 from b to c\n",
      "Move disk 2 from b to a\n",
      "Move disk 1 from c to a\n",
      "Move disk 3 from b to c\n",
      "Move disk 1 from a to b\n",
      "Move disk 2 from a to c\n",
      "Move disk 1 from b to c\n"
     ]
    }
   ],
   "source": [
    "def hanoi(n, start, end, temp):\n",
    "    if n == 1:\n",
    "        print(f\"Move disk 1 from {start} to {end}\")\n",
    "    else:\n",
    "        hanoi(n-1, start, temp, end)\n",
    "        print(f\"Move disk {n} from {start} to {end}\")\n",
    "        hanoi(n-1, temp, end, start)\n",
    "\n",
    "x = int(input(\"Enter number of disks: \"))\n",
    "hanoi(x, 'a', 'c', 'b')"
   ]
  },
  {
   "cell_type": "markdown",
   "id": "691c4c5a",
   "metadata": {},
   "source": [
    "### P-4.23 Implement a recursive function with signature find(path, filename) that reports all entries of the file system rooted at the given path having the given file name (from Exercise C-4.14)."
   ]
  },
  {
   "cell_type": "code",
   "execution_count": 1,
   "id": "d26410e8",
   "metadata": {},
   "outputs": [
    {
     "name": "stdout",
     "output_type": "stream",
     "text": [
      "Filename path: C:\\Users\\Julian Quijano\\Desktop\\SCHOOL\\COURSES\\1st Year\\1st Sem 1st Year\\ART APP\\FFA2.docx\n"
     ]
    }
   ],
   "source": [
    "import os\n",
    "\n",
    "def find(path, filename):\n",
    "    if os.path.isdir(path):\n",
    "        for i in os.listdir(path):\n",
    "            find(os.path.join(path, i), filename)\n",
    "    elif os.path.basename(path) == filename:\n",
    "        print(\"Filename path:\", path)\n",
    "\n",
    "\n",
    "find(r\"C:\\Users\\Julian Quijano\\Desktop\\SCHOOL\", \"FFA2.docx\")\n"
   ]
  }
 ],
 "metadata": {
  "kernelspec": {
   "display_name": "Python 3 (ipykernel)",
   "language": "python",
   "name": "python3"
  },
  "language_info": {
   "codemirror_mode": {
    "name": "ipython",
    "version": 3
   },
   "file_extension": ".py",
   "mimetype": "text/x-python",
   "name": "python",
   "nbconvert_exporter": "python",
   "pygments_lexer": "ipython3",
   "version": "3.11.5"
  }
 },
 "nbformat": 4,
 "nbformat_minor": 5
}
