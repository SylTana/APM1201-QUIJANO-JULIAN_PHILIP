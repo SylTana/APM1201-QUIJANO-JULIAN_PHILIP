{
 "cells": [
  {
   "cell_type": "markdown",
   "id": "4db472c5",
   "metadata": {},
   "source": [
    "### Suppose you are given an n-element sequence, S, containing distinct integers that are listed in increasing order. Given a number k, describe a recursive algorithm to find two integers in S that sum to k, if such a pair exists. What is the running time of your algorithm?"
   ]
  },
  {
   "cell_type": "code",
   "execution_count": 3,
   "id": "2fa989bf",
   "metadata": {},
   "outputs": [
    {
     "name": "stdout",
     "output_type": "stream",
     "text": [
      "Enter the number of elements: 1000\n",
      "Enter to find addends of a number k: 500\n",
      "(21, 479)\n",
      "\n",
      "Run Time: 0.0009996891021728516\n"
     ]
    }
   ],
   "source": [
    "import random as r\n",
    "import time as t\n",
    "\n",
    "def sortfind(S, k, i=0):\n",
    "    for j in (range(i + 1, len(S))):\n",
    "        if S[i] + S[j] == k:\n",
    "            return (S[i], S[j])\n",
    "    return sortfind(S, k, i + 1)\n",
    "\n",
    "n = int(input(\"Enter the number of elements: \"))\n",
    "k = int(input(\"Enter to find addends of a number k: \"))\n",
    "S = sorted(r.sample(range(1, 5000), n))\n",
    "\n",
    "start_time = t.time()\n",
    "print(sortfind(S, k))\n",
    "print(\"\\nRun Time:\", t.time() - start_time)\n"
   ]
  }
 ],
 "metadata": {
  "kernelspec": {
   "display_name": "Python 3 (ipykernel)",
   "language": "python",
   "name": "python3"
  },
  "language_info": {
   "codemirror_mode": {
    "name": "ipython",
    "version": 3
   },
   "file_extension": ".py",
   "mimetype": "text/x-python",
   "name": "python",
   "nbconvert_exporter": "python",
   "pygments_lexer": "ipython3",
   "version": "3.11.5"
  }
 },
 "nbformat": 4,
 "nbformat_minor": 5
}
