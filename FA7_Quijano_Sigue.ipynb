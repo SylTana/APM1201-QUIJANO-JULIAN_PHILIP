{
  "nbformat": 4,
  "nbformat_minor": 0,
  "metadata": {
    "colab": {
      "provenance": []
    },
    "kernelspec": {
      "name": "python3",
      "display_name": "Python 3"
    },
    "language_info": {
      "name": "python"
    }
  },
  "cells": [
    {
      "cell_type": "markdown",
      "source": [
        "## P-9.53 Implement the in-place heap-sort algorithm. Experimentally compare its running time with that of the standard heap-sort that is not in-place."
      ],
      "metadata": {
        "id": "LU4j4C0HimwL"
      }
    },
    {
      "cell_type": "markdown",
      "source": [
        "### In-Place Heap Sort"
      ],
      "metadata": {
        "id": "JyfYO_ljjwPX"
      }
    },
    {
      "cell_type": "code",
      "execution_count": null,
      "metadata": {
        "id": "lHHW3WTFiaKR"
      },
      "outputs": [],
      "source": [
        "def heap(arr, n, i):\n",
        "    largest = i  # Initialize largest as root\n",
        "    left = 2 * i + 1  # left = 2*i + 1\n",
        "    right = 2 * i + 2  # right = 2*i + 2\n",
        "\n",
        "    # If left child is larger than root\n",
        "    if left < n and arr[left] > arr[largest]:\n",
        "        largest = left\n",
        "\n",
        "    # If right child is larger than largest so far\n",
        "    if right < n and arr[right] > arr[largest]:\n",
        "        largest = right\n",
        "\n",
        "    # If largest is not root\n",
        "    if largest != i:\n",
        "        arr[i], arr[largest] = arr[largest], arr[i]  # swap\n",
        "\n",
        "        # Recursively heap the affected sub-tree\n",
        "        heap(arr, n, largest)\n",
        "\n",
        "def heap_sort_in_place(arr):\n",
        "    n = len(arr)\n",
        "\n",
        "    # Build a maxheap\n",
        "    for i in range(n // 2 - 1, -1, -1):\n",
        "        heap(arr, n, i)\n",
        "\n",
        "    # One by one extract elements from heap\n",
        "    for i in range(n - 1, 0, -1):\n",
        "        arr[i], arr[0] = arr[0], arr[i]  # swap\n",
        "        heap(arr, i, 0)"
      ]
    },
    {
      "cell_type": "markdown",
      "source": [
        "### Standard Heap Sort"
      ],
      "metadata": {
        "id": "i6Ksp2sokTiS"
      }
    },
    {
      "cell_type": "code",
      "source": [
        "def standard_heap_sort(arr):\n",
        "    n = len(arr)\n",
        "    heap1 = []\n",
        "\n",
        "    # Build a max heap\n",
        "    for value in arr:\n",
        "        heap1.append(value)\n",
        "        # Maintain the heap property\n",
        "        i = len(heap1) - 1\n",
        "        while i > 0:\n",
        "            parent = (i - 1) // 2\n",
        "            if heap1[i] > heap1[parent]:\n",
        "                heap1[i], heap1[parent] = heap1[parent], heap1[i]\n",
        "                i = parent\n",
        "            else:\n",
        "                break\n",
        "\n",
        "    # Extract elements from the heap\n",
        "    sorted_arr = []\n",
        "    while heap1:\n",
        "        # Move the largest element to the end of the sorted array\n",
        "        heap1[0], heap1[-1] = heap1[-1], heap1[0]\n",
        "        sorted_arr.append(heap1.pop())\n",
        "        # Re-heap\n",
        "        heap(heap1, len(heap1), 0)\n",
        "\n",
        "    return sorted_arr"
      ],
      "metadata": {
        "id": "d2EmqWgwkdmt"
      },
      "execution_count": null,
      "outputs": []
    },
    {
      "cell_type": "markdown",
      "source": [
        "### Time Comparison"
      ],
      "metadata": {
        "id": "MB04bcn9lUKE"
      }
    },
    {
      "cell_type": "code",
      "source": [
        "import time\n",
        "import random\n",
        "\n",
        "# Generate a random list of integers\n",
        "def generate_random_list(size):\n",
        "    return [random.randint(1, 10000) for _ in range(size)]\n",
        "\n",
        "# Compare running times\n",
        "def compare_heap_sorts(size):\n",
        "    random_list = generate_random_list(size)\n",
        "\n",
        "    # In-place heap sort\n",
        "    arr_in_place = random_list.copy()\n",
        "    start_time = time.time()\n",
        "    heap_sort_in_place(arr_in_place)\n",
        "    in_place_time = time.time() - start_time\n",
        "\n",
        "    # Standard heap sort\n",
        "    arr_standard = random_list.copy()\n",
        "    start_time = time.time()\n",
        "    sorted_arr = standard_heap_sort(arr_standard)\n",
        "    standard_time = time.time() - start_time\n",
        "\n",
        "    print(f\"Size: {size}, In-Place Time: {in_place_time:.6f}s, Standard Time: {standard_time:.6f}s\")\n",
        "\n",
        "# Run the comparison for different sizes\n",
        "for size in [1000, 5000, 10000, 50000, 100000, 500000, 1000000]:\n",
        "    compare_heap_sorts(size)"
      ],
      "metadata": {
        "colab": {
          "base_uri": "https://localhost:8080/"
        },
        "id": "LvOAUXEZlZb6",
        "outputId": "c8d1b665-2dc4-43a6-d437-6edefce3d0d2"
      },
      "execution_count": null,
      "outputs": [
        {
          "output_type": "stream",
          "name": "stdout",
          "text": [
            "Size: 1000, In-Place Time: 0.004796s, Standard Time: 0.004987s\n",
            "Size: 5000, In-Place Time: 0.038514s, Standard Time: 0.034481s\n",
            "Size: 10000, In-Place Time: 0.066438s, Standard Time: 0.068676s\n",
            "Size: 50000, In-Place Time: 0.457390s, Standard Time: 0.441698s\n",
            "Size: 100000, In-Place Time: 1.509872s, Standard Time: 1.691835s\n",
            "Size: 500000, In-Place Time: 6.222526s, Standard Time: 7.484966s\n",
            "Size: 1000000, In-Place Time: 14.665295s, Standard Time: 14.899644s\n"
          ]
        }
      ]
    },
    {
      "cell_type": "markdown",
      "source": [
        "##P-9.53 Write a program that can process a sequence of stock buy and sell orders as described in Exercise C-9.50."
      ],
      "metadata": {
        "id": "sS-N4EQbDm8e"
      }
    },
    {
      "cell_type": "code",
      "source": [
        "import heapq\n",
        "\n",
        "\n",
        "class StockOrderSystem:\n",
        "    def __init__(self):\n",
        "        self.buy_orders = []  # Max-heap for buy orders (using negative prices)\n",
        "        self.sell_orders = []  # Min-heap for sell orders\n",
        "        self.trade_log = []  # List to store executed trades\n",
        "\n",
        "    def buy(self, shares, price):\n",
        "        # Add the buy order to the max-heap (using negative price for max behavior)\n",
        "        heapq.heappush(self.buy_orders, (-price, shares))\n",
        "        self.process_orders()\n",
        "\n",
        "    def sell(self, shares, price):\n",
        "        # Add the sell order to the min-heap\n",
        "        heapq.heappush(self.sell_orders, (price, shares))\n",
        "        self.process_orders()\n",
        "\n",
        "    def process_orders(self):\n",
        "        while self.buy_orders and self.sell_orders:\n",
        "            # Get the highest buy order and the lowest sell order\n",
        "            buy_price, buy_shares = self.buy_orders[0]\n",
        "            sell_price, sell_shares = self.sell_orders[0]\n",
        "\n",
        "            # Convert buy_price back to positive\n",
        "            buy_price = -buy_price\n",
        "\n",
        "            # Display the current buy and sell orders\n",
        "            print(f\"Current Buy Order: {buy_shares} shares at ₱{buy_price} each\")\n",
        "            print(f\"Current Sell Order: {sell_shares} shares at ₱{sell_price} each\")\n",
        "\n",
        "            # Check if the orders can be processed\n",
        "            if sell_price <= buy_price:\n",
        "                # Determine the number of shares to process\n",
        "                shares_to_trade = min(buy_shares, sell_shares)\n",
        "\n",
        "                # Record the trade in the trade log\n",
        "                self.trade_log.append({\n",
        "                    'shares': shares_to_trade,\n",
        "                    'price': sell_price,\n",
        "                    'type': 'buy' if sell_price <= buy_price else 'sell'\n",
        "                })\n",
        "\n",
        "                # Print the transaction for both buy and sell\n",
        "                print(f\"Processed: Buy {shares_to_trade} shares at ₱{sell_price} each\")\n",
        "                print(f\"Processed: Sell {shares_to_trade} shares at ₱{sell_price} each\")\n",
        "\n",
        "                # Update the shares\n",
        "                if buy_shares > shares_to_trade:\n",
        "                    self.buy_orders[0] = (-buy_price, buy_shares - shares_to_trade)\n",
        "                else:\n",
        "                    heapq.heappop(self.buy_orders)\n",
        "\n",
        "                if sell_shares > shares_to_trade:\n",
        "                    self.sell_orders[0] = (sell_price, sell_shares - shares_to_trade)\n",
        "                else:\n",
        "                    heapq.heappop(self.sell_orders)\n",
        "            else:\n",
        "                break  # No more orders can be processed\n",
        "\n",
        "    def print_trade_log(self):\n",
        "        print(\"\\nTrade Log:\")\n",
        "        for trade in self.trade_log:\n",
        "            print(f\"Traded {trade['shares']} shares at ₱{trade['price']} each.\")\n",
        "\n",
        "\n",
        "# Example usage\n",
        "if __name__ == \"__main__\":\n",
        "    system = StockOrderSystem()\n",
        "\n",
        "    # Sample orders\n",
        "    system.buy(100, 10)  # Buy 100 shares at ₱10 each\n",
        "    system.sell(100, 9)  # Sell 100 shares at ₱9 each\n",
        "    system.sell(50, 10)  # Sell 50 shares at ₱10 each\n",
        "    system.buy(50, 10)  # Buy 50 shares at ₱10 each\n",
        "\n",
        "    # Print the trade log\n",
        "    system.print_trade_log()"
      ],
      "metadata": {
        "id": "3oy5Zff-D9-h",
        "colab": {
          "base_uri": "https://localhost:8080/"
        },
        "outputId": "8b3d3332-77a2-4aff-9a3b-7ce46cc4389a"
      },
      "execution_count": 2,
      "outputs": [
        {
          "output_type": "stream",
          "name": "stdout",
          "text": [
            "Current Buy Order: 100 shares at ₱10 each\n",
            "Current Sell Order: 100 shares at ₱9 each\n",
            "Processed: Buy 100 shares at ₱9 each\n",
            "Processed: Sell 100 shares at ₱9 each\n",
            "Current Buy Order: 50 shares at ₱10 each\n",
            "Current Sell Order: 50 shares at ₱10 each\n",
            "Processed: Buy 50 shares at ₱10 each\n",
            "Processed: Sell 50 shares at ₱10 each\n",
            "\n",
            "Trade Log:\n",
            "Traded 100 shares at ₱9 each.\n",
            "Traded 50 shares at ₱10 each.\n"
          ]
        }
      ]
    }
  ]
}