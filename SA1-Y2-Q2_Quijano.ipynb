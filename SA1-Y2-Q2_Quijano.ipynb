{
 "cells": [
  {
   "cell_type": "markdown",
   "id": "de2e0014",
   "metadata": {},
   "source": [
    "### Write a Python program that simulates a music streaming service. Your system should support the following functionalities:\n",
    "\n",
    "#### Users can \"subscribe\" to different music genres.\n",
    "#### Users can view their subscribed genres and discover new music.\n",
    "#### Users can play a list of songs from their subscribed genres.\n",
    "#### To implement this system, you will need to gather songs from various genres that are available for free or in the public domain on the Internet. Each genre should have a collection of songs that users can browse and play.\n",
    "\n",
    "### Requirements:\n",
    "#### Implement a MusicStreamingService class with methods for subscribing to genres, viewing subscriptions, and playing songs.\n",
    "#### Create a Song class that includes attributes like title, artist, and duration.\n",
    "#### Ensure that users can browse available genres and the songs within each genre before making a subscription.\n",
    "#### Use an external source (like a public domain music database or website) to populate your list of available songs for users to explore.\n",
    "### Bonus:\n",
    "#### Allow users to create custom playlists based on their subscribed genres and save them for later playback.\n",
    "#### Implement a feature to search for songs by title or artist."
   ]
  },
  {
   "cell_type": "code",
   "execution_count": null,
   "id": "22ddeb2c",
   "metadata": {},
   "outputs": [],
   "source": [
    "class Song:\n",
    "    def __init__(self, title, artist):\n",
    "        self.title = title\n",
    "        self.artist = artist\n",
    "\n",
    "    def __str__(self):\n",
    "        return f\"{self.title} by {self.artist}\"\n",
    "\n",
    "\n",
    "class MusicStreamingService:\n",
    "    def __init__(self):\n",
    "        self.genres = {\n",
    "            \"Rock\": [],\n",
    "            \"Hip-Hop\": [],\n",
    "            \"Country\": [],\n",
    "            \"R&B\": []\n",
    "        }\n",
    "        self.user_subscriptions = {}\n",
    "\n",
    "    def add_songs_to_genres(self, songs):\n",
    "        for song in songs:\n",
    "            self.genres[song[\"genre\"]].append(Song(song[\"title\"], song[\"artist\"]))\n",
    "\n",
    "    def subscribe_to_genre(self, user, genre):\n",
    "        if user not in self.user_subscriptions:\n",
    "            self.user_subscriptions[user] = []\n",
    "        if genre not in self.user_subscriptions[user]:\n",
    "            self.user_subscriptions[user].append(genre)\n",
    "\n",
    "    def view_subscriptions(self, user):\n",
    "        return self.user_subscriptions.get(user, [])\n",
    "\n",
    "    def play_songs(self, user):\n",
    "        songs_to_play = []\n",
    "        for genre in self.view_subscriptions(user):\n",
    "            songs_to_play.extend(self.genres[genre])\n",
    "        return songs_to_play\n",
    "\n",
    "    def view_songs_by_genre(self):\n",
    "        for genre, songs in self.genres.items():\n",
    "            print(f\"**{genre}**\")\n",
    "            for i, song in enumerate(songs, start=1):\n",
    "                print(f\"{i}. {song}\")\n",
    "            print()\n",
    "\n",
    "# Couldn't find database for testing."
   ]
  }
 ],
 "metadata": {
  "kernelspec": {
   "display_name": "Python 3 (ipykernel)",
   "language": "python",
   "name": "python3"
  },
  "language_info": {
   "codemirror_mode": {
    "name": "ipython",
    "version": 3
   },
   "file_extension": ".py",
   "mimetype": "text/x-python",
   "name": "python",
   "nbconvert_exporter": "python",
   "pygments_lexer": "ipython3",
   "version": "3.11.5"
  }
 },
 "nbformat": 4,
 "nbformat_minor": 5
}
