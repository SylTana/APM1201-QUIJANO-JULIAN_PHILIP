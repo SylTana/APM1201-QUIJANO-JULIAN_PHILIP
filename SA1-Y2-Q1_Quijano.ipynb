{
 "cells": [
  {
   "cell_type": "markdown",
   "id": "8061c347",
   "metadata": {},
   "source": [
    "### Write a Python program that simulates a handheld calculator. Your program should process input from the Python console representing buttons that are “pushed,” and then output the contents of the screen after each operation is performed. Minimally, your calculator should be able to process the basic arithmetic operations and a reset/clear operation."
   ]
  },
  {
   "cell_type": "code",
   "execution_count": 2,
   "id": "6e0a9266",
   "metadata": {},
   "outputs": [
    {
     "name": "stdout",
     "output_type": "stream",
     "text": [
      "Input your operation one character at a time, or 'esc' to exit, or 'b' to backspace/erase): 5\n",
      "5\n",
      "Input your operation one character at a time, or 'esc' to exit, or 'b' to backspace/erase): +\n",
      "5+\n",
      "Input your operation one character at a time, or 'esc' to exit, or 'b' to backspace/erase): b\n",
      "5\n",
      "Input your operation one character at a time, or 'esc' to exit, or 'b' to backspace/erase): *\n",
      "5*\n",
      "Input your operation one character at a time, or 'esc' to exit, or 'b' to backspace/erase): 6\n",
      "5*6\n",
      "Input your operation one character at a time, or 'esc' to exit, or 'b' to backspace/erase): =\n",
      "30\n",
      "Input your operation one character at a time, or 'esc' to exit, or 'b' to backspace/erase): esc\n",
      "Thank you!\n"
     ]
    }
   ],
   "source": [
    "class Calculator:\n",
    "    def __init__(self):\n",
    "        self.cal = \"0\"\n",
    "\n",
    "    def entry(self, user_input):\n",
    "        if user_input == \"C\":\n",
    "            self.cal = \"0\"\n",
    "        elif user_input in \"+-*/\":\n",
    "            if self.cal != \"0\":\n",
    "                self.cal += user_input\n",
    "        elif user_input == \"=\":\n",
    "            try:\n",
    "                self.cal = str(eval(self.cal))\n",
    "            except ZeroDivisionError:\n",
    "                self.cal = \"Error\"\n",
    "        elif user_input == \"B\":\n",
    "            self.cal = self.cal[:-1]\n",
    "        else:\n",
    "            if self.cal == \"0\":\n",
    "                self.cal = user_input\n",
    "            else:\n",
    "                self.cal += user_input\n",
    "        return self.cal\n",
    "\n",
    "\n",
    "calculator = Calculator()\n",
    "\n",
    "while True:\n",
    "    user_input = input(\"Input your operation one character at a time, or 'esc' to exit, or 'b' to backspace/erase): \").upper()\n",
    "    if user_input.lower() == \"esc\":\n",
    "        print(\"Thank you!\")\n",
    "        break\n",
    "    print(calculator.entry(user_input))\n"
   ]
  }
 ],
 "metadata": {
  "kernelspec": {
   "display_name": "Python 3 (ipykernel)",
   "language": "python",
   "name": "python3"
  },
  "language_info": {
   "codemirror_mode": {
    "name": "ipython",
    "version": 3
   },
   "file_extension": ".py",
   "mimetype": "text/x-python",
   "name": "python",
   "nbconvert_exporter": "python",
   "pygments_lexer": "ipython3",
   "version": "3.11.5"
  }
 },
 "nbformat": 4,
 "nbformat_minor": 5
}
