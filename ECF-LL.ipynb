{
 "cells": [
  {
   "cell_type": "markdown",
   "id": "c0aec7f6-3d60-4e5a-a578-81a5c73a1fd1",
   "metadata": {},
   "source": [
    "### R-7.5 Implement a function that counts the number of nodes in a circularly linked list."
   ]
  },
  {
   "cell_type": "code",
   "execution_count": 20,
   "id": "531284c8-a4a4-49b4-9327-7bc13f4bfce6",
   "metadata": {},
   "outputs": [
    {
     "name": "stdout",
     "output_type": "stream",
     "text": [
      "The first element is 1\n",
      "The first element is 2\n",
      "The number of nodes is 3\n"
     ]
    }
   ],
   "source": [
    "class CircularQueue:\n",
    "    \n",
    "    class _Node:\n",
    "        __slots__ = '_element' , '_next'\n",
    "        \n",
    "        def __init__(self, element, next):\n",
    "            self._element = element\n",
    "            self._next = next\n",
    "            \n",
    "    def __init__(self):\n",
    "        self._tail = None\n",
    "        self._size = 0\n",
    "        \n",
    "    def len (self):\n",
    "        return self._size\n",
    "\n",
    "    def is_empty(self):\n",
    "        return self._size == 0\n",
    "\n",
    "    def first(self):\n",
    "        if self.is_empty():\n",
    "            raise Empty(\"Queue is empty\")\n",
    "        head = self._tail._next\n",
    "        print(\"The first element is\", head._element)\n",
    "\n",
    "    def dequeue(self):\n",
    "        if self.is_empty():\n",
    "            raise Empty(\"Queue is empty\")\n",
    "        oldhead = self._tail._next\n",
    "        if self._size == 1:\n",
    "            self._tail = None\n",
    "        else:\n",
    "            self._tail._next = oldhead._next\n",
    "        self._size -= 1\n",
    "        return oldhead._element\n",
    "\n",
    "    def enqueue(self, e):\n",
    "        newest = self._Node(e, None) # node will be new tail node\n",
    "        if self.is_empty():\n",
    "            newest._next = newest # initialize circularly\n",
    "        else:\n",
    "            newest._next = self._tail._next # new node points to head\n",
    "            self._tail._next = newest # old tail points to new node\n",
    "        self._tail = newest # new node becomes the tail\n",
    "        self._size += 1\n",
    "\n",
    "    def rotate(self):\n",
    "        if self._size > 0:\n",
    "            self._tail = self._tail._next # old head becomes new tail\n",
    "\n",
    "\n",
    "    def countNodes(self):\n",
    "\n",
    "        head = self._tail._next\n",
    "        curr = head\n",
    "        result = 0\n",
    "\n",
    "        if (head == None) :\n",
    "            return 0\n",
    "    \n",
    "        while True :\n",
    "            curr = curr._next\n",
    "            result = result + 1\n",
    "            if (curr == head):\n",
    "                break\n",
    "    \n",
    "        print(\"The number of nodes is\", result)\n",
    "\n",
    "\n",
    "\n",
    "\n",
    "\n",
    "circle = CircularQueue()\n",
    "circle.enqueue(1)\n",
    "circle.enqueue(2)\n",
    "circle.enqueue(3)\n",
    "circle.enqueue(4)\n",
    "circle.first()\n",
    "circle.dequeue()\n",
    "circle.first()\n",
    "circle.countNodes()"
   ]
  },
  {
   "cell_type": "code",
   "execution_count": null,
   "id": "623968cd-1c91-4046-8b18-d4f65150f269",
   "metadata": {},
   "outputs": [],
   "source": []
  }
 ],
 "metadata": {
  "kernelspec": {
   "display_name": "Python 3 (ipykernel)",
   "language": "python",
   "name": "python3"
  },
  "language_info": {
   "codemirror_mode": {
    "name": "ipython",
    "version": 3
   },
   "file_extension": ".py",
   "mimetype": "text/x-python",
   "name": "python",
   "nbconvert_exporter": "python",
   "pygments_lexer": "ipython3",
   "version": "3.12.4"
  }
 },
 "nbformat": 4,
 "nbformat_minor": 5
}
