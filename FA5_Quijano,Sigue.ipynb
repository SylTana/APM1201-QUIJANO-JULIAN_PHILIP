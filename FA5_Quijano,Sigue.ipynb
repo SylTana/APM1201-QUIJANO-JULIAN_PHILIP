{
  "nbformat": 4,
  "nbformat_minor": 0,
  "metadata": {
    "colab": {
      "provenance": []
    },
    "kernelspec": {
      "name": "python3",
      "display_name": "Python 3"
    },
    "language_info": {
      "name": "python"
    }
  },
  "cells": [
    {
      "cell_type": "markdown",
      "source": [
        "Write a Python function that takes two three-dimensional numeric data\n",
        "sets and adds them componentwise"
      ],
      "metadata": {
        "id": "D2mPxA0suHYv"
      }
    },
    {
      "cell_type": "code",
      "source": [
        "def add_3d(x, y):\n",
        "  out = []\n",
        "  trd = []\n",
        "  snd = []\n",
        "  for a,b in zip(x,y):\n",
        "    for c,d in zip(a,b):\n",
        "      for q,w in zip(c,d):\n",
        "        trd.append(q+w)\n",
        "      snd.append(trd)\n",
        "      trd = []\n",
        "    out.append(snd)\n",
        "    snd = []\n",
        "  return out\n",
        "\n",
        "d1 = [[[58, 34, 99], [77, 60, 41], [63, 83, 96]], [[5, 73, 22], [35, 89, 16], [28, 92, 46]],  [[78, 20, 37], [64, 29, 55], [47, 81, 70]]]\n",
        "d2 = [[[85, 47, 91], [72, 66, 33], [24, 95, 31]], [[50, 14, 68], [53, 38, 10], [39, 94, 76]], [[12, 69, 15], [90, 17, 57], [49, 21, 61]]]\n",
        "\n",
        "\n",
        "print(\"Output: \", add_3d(d1,d2))"
      ],
      "metadata": {
        "colab": {
          "base_uri": "https://localhost:8080/"
        },
        "id": "vLpYr8n5mbO1",
        "outputId": "1208d89f-9d1b-4b5d-d805-dccc379e9529"
      },
      "execution_count": null,
      "outputs": [
        {
          "output_type": "stream",
          "name": "stdout",
          "text": [
            "Output:  [[[143, 81, 190], [149, 126, 74], [87, 178, 127]], [[55, 87, 90], [88, 127, 26], [67, 186, 122]], [[90, 89, 52], [154, 46, 112], [96, 102, 131]]]\n"
          ]
        }
      ]
    },
    {
      "cell_type": "markdown",
      "source": [
        "Give a complete ArrayDeque implementation of the double-ended queue\n",
        "ADT as sketched in Section 6.3.2."
      ],
      "metadata": {
        "id": "9HTTquWbuIT1"
      }
    },
    {
      "cell_type": "code",
      "source": [
        "# Give a complete ArrayDeque implementation of the double-ended queue\n",
        "#  ADTas sketched in Section 6.3.2.\n",
        "\n",
        "class ArrayDeque:\n",
        "    default_capacity = 10\n",
        "\n",
        "    def __init__(self):\n",
        "        self._data = [None] * ArrayDeque.default_capacity\n",
        "        self._size = 0\n",
        "        self._front = 0\n",
        "\n",
        "    def __len__(self):\n",
        "        return self._size\n",
        "\n",
        "    def is_empty(self):\n",
        "        return self._size == 0\n",
        "\n",
        "    def add_first(self, e):\n",
        "        if self._size == len(self._data):\n",
        "            self._resize(2 * len(self._data))\n",
        "        self._front = (self._front - 1) % len(self._data)\n",
        "        self._data[self._front] = e\n",
        "        self._size += 1\n",
        "        print(\"Adding\", e, \"to the start of the deque.\")\n",
        "\n",
        "    def add_last(self, e):\n",
        "        if self._size == len(self._data):\n",
        "            self._resize(2 * len(self._data))\n",
        "        avail = (self._front + self._size) % len(self._data)\n",
        "        self._data[avail] = e\n",
        "        self._size += 1\n",
        "        print(\"Adding\", e, \"to the end of the deque.\")\n",
        "\n",
        "    def delete_first(self):\n",
        "        if self.is_empty():\n",
        "            raise Empty('Queue is empty!')\n",
        "        print(\"Deleting\", str(self._data[self._front]) + \", the first element in the deque.\")\n",
        "        self._data[self._front] = None\n",
        "        self._front = (self._front + 1) % len(self._data)\n",
        "        self._size -= 1\n",
        "        if 0 < self._size < len(self._data) // 4:\n",
        "            self._resize(len(self._data) // 2)\n",
        "\n",
        "\n",
        "    def delete_last(self):\n",
        "        if self.is_empty():\n",
        "            raise Empty('Queue is empty!')\n",
        "        print(\"Deleting\", str(self.last())+ \", the last element in the deque.\")\n",
        "        self._data[(self._front + self._size) % len(self._data)] = None\n",
        "        self._size -= 1\n",
        "        if 0 < self._size < len(self._data) // 4:\n",
        "            self._resize(len(self._data) // 2)\n",
        "\n",
        "    def _resize(self, cap):\n",
        "        old = self._data\n",
        "        self._data = [None] * cap\n",
        "        walk = self._front\n",
        "        for k in range(self._size):\n",
        "            self._data[k] = old[walk]\n",
        "            walk = (1 + walk) % len(old)\n",
        "        self._front = 0\n",
        "\n",
        "    def first(self):\n",
        "        if self.is_empty():\n",
        "            raise Empty('Queue is empty!')\n",
        "        return self._data[self._front]\n",
        "\n",
        "    def last(self):\n",
        "        if self.is_empty():\n",
        "            raise Empty('Queue is empty!')\n",
        "        return self._data[(self._front + self._size - 1) % len(self._data)]\n",
        "\n",
        "\n",
        "class Empty(Exception):\n",
        "    pass\n",
        "\n",
        "\n",
        "a = ArrayDeque()\n",
        "\n",
        "a.add_first(5)\n",
        "print(\"First:\", a.first())\n",
        "a.add_first(3)\n",
        "print(\"First:\", a.first())\n",
        "a.add_last(9)\n",
        "print(\"Last:\", a.last())\n",
        "a.delete_last()\n",
        "print(\"Last:\", a.last())\n",
        "print(\"Is the Array stack empty?\", a.is_empty())\n",
        "a.delete_last()\n",
        "a.delete_first()\n",
        "print(\"Is the Array stack empty?\", a.is_empty())\n"
      ],
      "metadata": {
        "colab": {
          "base_uri": "https://localhost:8080/"
        },
        "id": "wXIns2etvr43",
        "outputId": "18af65b9-c2fd-4870-f6fb-86bc00a172d1"
      },
      "execution_count": 21,
      "outputs": [
        {
          "output_type": "stream",
          "name": "stdout",
          "text": [
            "Adding 5 to the start of the deque.\n",
            "First: 5\n",
            "Adding 3 to the start of the deque.\n",
            "First: 3\n",
            "Adding 9 to the end of the deque.\n",
            "Last: 9\n",
            "Deleting 9, the last element in the deque.\n",
            "Last: 5\n",
            "Is the Array stack empty? False\n",
            "Deleting 5, the last element in the deque.\n",
            "Deleting 3, the first element in the deque.\n",
            "Is the Array stack empty? True\n"
          ]
        }
      ]
    }
  ]
}